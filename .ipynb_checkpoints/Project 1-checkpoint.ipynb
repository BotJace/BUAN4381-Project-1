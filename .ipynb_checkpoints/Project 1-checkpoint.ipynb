{
 "cells": [
  {
   "cell_type": "markdown",
   "id": "d82ca276-2621-4e72-8e30-8c66a743469b",
   "metadata": {},
   "source": [
    "# Program functions\n",
    "### 1. Write to file for transaction/expense info\n",
    "- csv\n",
    "- assign unique ID to each (expenseID)\n",
    "### 2. Read file and search info with filters\n",
    "- search functions\n",
    "- drop down?\n",
    "### 3. Modify info by taking expenseID\n",
    "- users will need to run search function first to obtain ID\n",
    "- \n",
    "### 4. Allow users to view statistics\n",
    "- aggregations\n",
    "- visualizations"
   ]
  },
  {
   "cell_type": "markdown",
   "id": "a835a115-161f-44b8-8089-41bd73768d7f",
   "metadata": {},
   "source": [
    "## Display prompts\n",
    "- infinite loop asking for input (transaction)\n",
    "- what type of input or quit\n",
    "- write to file \n"
   ]
  },
  {
   "cell_type": "code",
   "execution_count": 31,
   "id": "01ca2bde-04e2-4a71-9546-2a3962808b05",
   "metadata": {},
   "outputs": [
    {
     "name": "stdin",
     "output_type": "stream",
     "text": [
      "Food, Transportation, or Quit\n",
      " transportation\n",
      "Type? Ex: Uber, Gas, Bus, ect. uber\n",
      "How much did it cost? 14.99\n",
      "When did this happen? (Day-Month-Year-24hrTime) 12-12-2023-12:43\n",
      "Food, Transportation, or Quit\n",
      " quit\n"
     ]
    }
   ],
   "source": [
    "while True:\n",
    "    a = input(\"Food, Transportation, or Quit\\n\").lower()\n",
    "    if a == \"quit\":\n",
    "        break\n",
    "    # ask for user inputs for transportation transaction info\n",
    "    elif a == \"transportation\":\n",
    "        tCategory = input(\"Type? Ex: Uber, Gas, Bus, ect.\\n\")\n",
    "        tPrice = input(\"How much did it cost?\\n\")\n",
    "        tDate = input(\"When did this happen? (Day-Month-Year-24hrTime)\\n\")\n",
    "        pass\n",
    "    # ask for user inputs for food transaction info\n",
    "    elif a == \"food\":\n",
    "        fCategory = input(\"Type? Ex: Grocery, Dinning, ect.\\n\")\n",
    "        fPrice = input(\"How much did it cost?\\n\")\n",
    "        fDate = input(\"When did this happen? (Day-Month-Year-24hrTime)\\n\")\n",
    "        pass\n",
    "    else:\n",
    "        print(\"not an acceptable option\")"
   ]
  },
  {
   "cell_type": "markdown",
   "id": "12d33f9a-f862-42fe-9c4c-047561eb3c7d",
   "metadata": {},
   "source": [
    "### Transaction Super Class\n"
   ]
  },
  {
   "cell_type": "code",
   "execution_count": null,
   "id": "82fb1af0-c7bd-48db-ad64-14d02518cbb8",
   "metadata": {},
   "outputs": [],
   "source": [
    "class Transaction:\n",
    "    "
   ]
  },
  {
   "cell_type": "markdown",
   "id": "e68cab44-5a21-4135-bf38-f065e6420c78",
   "metadata": {},
   "source": [
    "### Food Subclass"
   ]
  },
  {
   "cell_type": "code",
   "execution_count": null,
   "id": "8c2fdf62-3306-49c8-9783-607374404901",
   "metadata": {},
   "outputs": [],
   "source": [
    "class Food(Transaction):\n",
    "    "
   ]
  },
  {
   "cell_type": "markdown",
   "id": "7991cf48-f111-4115-8dfd-f7f44aea7c97",
   "metadata": {},
   "source": [
    "### Transportation Subclass"
   ]
  },
  {
   "cell_type": "code",
   "execution_count": null,
   "id": "6c0859eb-04ad-4c6c-8968-fc836e16d1f1",
   "metadata": {},
   "outputs": [],
   "source": [
    "class Transportation(Transaction):\n",
    "    "
   ]
  }
 ],
 "metadata": {
  "kernelspec": {
   "display_name": "Python 3 (ipykernel)",
   "language": "python",
   "name": "python3"
  },
  "language_info": {
   "codemirror_mode": {
    "name": "ipython",
    "version": 3
   },
   "file_extension": ".py",
   "mimetype": "text/x-python",
   "name": "python",
   "nbconvert_exporter": "python",
   "pygments_lexer": "ipython3",
   "version": "3.11.5"
  }
 },
 "nbformat": 4,
 "nbformat_minor": 5
}
